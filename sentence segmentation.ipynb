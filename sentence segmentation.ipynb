{
 "cells": [
  {
   "cell_type": "code",
   "execution_count": 1,
   "id": "3cfad8b1-52c6-4e91-a71f-b76dbb06cb7b",
   "metadata": {},
   "outputs": [],
   "source": [
    "#sentence segmentation: in spacy basic we saw briefly how Doc objects are divided into sentences.in this section we'll learn how sentence segm,entation works and how to set our own segmentation rules."
   ]
  },
  {
   "cell_type": "code",
   "execution_count": 1,
   "id": "a54245c0-96b4-4ed8-80fb-1e6db09407d9",
   "metadata": {},
   "outputs": [],
   "source": [
    "#perform standard imports\n",
    "import spacy\n",
    "nlp=spacy.load('en_core_web_sm')"
   ]
  },
  {
   "cell_type": "code",
   "execution_count": 2,
   "id": "de165c7a-a7d8-4bdb-abe8-4e8ac5204c01",
   "metadata": {},
   "outputs": [
    {
     "name": "stdout",
     "output_type": "stream",
     "text": [
      "this is the first sentence.\n",
      "this is another sentence.\n",
      "this is the last sentence.\n"
     ]
    }
   ],
   "source": [
    "#from  spacy basic:\n",
    "doc=nlp(u'this is the first sentence. this is another sentence. this is the last sentence.')\n",
    "\n",
    "\n",
    "for sent in doc.sents:\n",
    "    print(sent)"
   ]
  },
  {
   "cell_type": "code",
   "execution_count": 3,
   "id": "0e8ca514-62f3-434d-a6ca-9d40529c56e0",
   "metadata": {},
   "outputs": [
    {
     "name": "stdout",
     "output_type": "stream",
     "text": [
      "is\n"
     ]
    }
   ],
   "source": [
    "print(doc[1])"
   ]
  },
  {
   "cell_type": "code",
   "execution_count": 4,
   "id": "23b0c069-7d06-4852-a73f-bf2d7cd5f4dd",
   "metadata": {},
   "outputs": [
    {
     "data": {
      "text/plain": [
       "[this is the first sentence.,\n",
       " this is another sentence.,\n",
       " this is the last sentence.]"
      ]
     },
     "execution_count": 4,
     "metadata": {},
     "output_type": "execute_result"
    }
   ],
   "source": [
    "doc_sents=[sent for sent in doc.sents]\n",
    "doc_sents"
   ]
  },
  {
   "cell_type": "code",
   "execution_count": 5,
   "id": "c6abe064-d61c-42e8-955b-0f8182b6b97a",
   "metadata": {},
   "outputs": [
    {
     "data": {
      "text/plain": [
       "spacy.tokens.span.Span"
      ]
     },
     "execution_count": 5,
     "metadata": {},
     "output_type": "execute_result"
    }
   ],
   "source": [
    "type(doc_sents[1])"
   ]
  },
  {
   "cell_type": "code",
   "execution_count": 6,
   "id": "215407c7-69e1-421f-a1cc-98414925a602",
   "metadata": {},
   "outputs": [
    {
     "name": "stdout",
     "output_type": "stream",
     "text": [
      "6 11\n"
     ]
    }
   ],
   "source": [
    "print(doc_sents[1].start,doc_sents[1].end)"
   ]
  },
  {
   "cell_type": "code",
   "execution_count": 7,
   "id": "ebe05a26-65ed-4097-af17-53d04dea290b",
   "metadata": {},
   "outputs": [
    {
     "name": "stdout",
     "output_type": "stream",
     "text": [
      "6 11\n"
     ]
    }
   ],
   "source": [
    "if len(doc_sents) > 1:\n",
    "    print(doc_sents[1].start, doc_sents[1].end)"
   ]
  },
  {
   "cell_type": "code",
   "execution_count": 8,
   "id": "22aa5dd9-45ec-4e99-bba4-5254b31de1e4",
   "metadata": {},
   "outputs": [],
   "source": [
    "#adding rules\n"
   ]
  },
  {
   "cell_type": "code",
   "execution_count": 11,
   "id": "4673e254-e1dd-4b1a-9b0a-2e1cf01340a3",
   "metadata": {},
   "outputs": [
    {
     "name": "stdout",
     "output_type": "stream",
     "text": [
      "True this\n",
      "False is\n",
      "False a\n",
      "False sentence\n",
      "False .\n",
      "True this\n",
      "False is\n",
      "False sentence\n",
      "False .\n",
      "True this\n",
      "False is\n",
      "False a\n",
      "False sentence\n",
      "False .\n"
     ]
    }
   ],
   "source": [
    "#pursing the segmentation start tokens happens during the nlp pipelines\n",
    "doc2=nlp(u'this is a sentence. this is sentence. this is a sentence.')\n",
    "for token in doc2:\n",
    "    print(token.is_sent_start,''+token.text)"
   ]
  },
  {
   "cell_type": "code",
   "execution_count": 21,
   "id": "8ee871e2-6f5c-467a-8dad-61cbf943b7f5",
   "metadata": {},
   "outputs": [
    {
     "ename": "ValueError",
     "evalue": "[E030] Sentence boundaries unset. You can add the 'sentencizer' component to the pipeline with: `nlp.add_pipe('sentencizer')`. Alternatively, add the dependency parser or sentence recognizer, or set sentence boundaries by setting `doc[i].is_sent_start`.",
     "output_type": "error",
     "traceback": [
      "\u001b[1;31m---------------------------------------------------------------------------\u001b[0m",
      "\u001b[1;31mValueError\u001b[0m                                Traceback (most recent call last)",
      "Cell \u001b[1;32mIn[21], line 3\u001b[0m\n\u001b[0;32m      1\u001b[0m \u001b[38;5;66;03m#spacy's defauilt behaivoiur\u001b[39;00m\n\u001b[0;32m      2\u001b[0m doc3 \u001b[38;5;241m=\u001b[39m nlp(\u001b[38;5;124mu\u001b[39m\u001b[38;5;124m'\u001b[39m\u001b[38;5;124m\"\u001b[39m\u001b[38;5;124mmanagement is doing things right;leadership is doing the right things.\u001b[39m\u001b[38;5;124m\"\u001b[39m\u001b[38;5;124m -peter Drucker\u001b[39m\u001b[38;5;124m'\u001b[39m)\n\u001b[1;32m----> 3\u001b[0m \u001b[38;5;28;01mfor\u001b[39;00m sent \u001b[38;5;129;01min\u001b[39;00m doc3\u001b[38;5;241m.\u001b[39msents:\n\u001b[0;32m      4\u001b[0m      \u001b[38;5;28mprint\u001b[39m(sent)\n",
      "File \u001b[1;32m~\\anaconda3\\envs\\spacy\\Lib\\site-packages\\spacy\\tokens\\doc.pyx:926\u001b[0m, in \u001b[0;36msents\u001b[1;34m()\u001b[0m\n",
      "\u001b[1;31mValueError\u001b[0m: [E030] Sentence boundaries unset. You can add the 'sentencizer' component to the pipeline with: `nlp.add_pipe('sentencizer')`. Alternatively, add the dependency parser or sentence recognizer, or set sentence boundaries by setting `doc[i].is_sent_start`."
     ]
    }
   ],
   "source": [
    "#spacy's defauilt behaivoiur\n",
    "doc3 = nlp(u'\"management is doing things right;leadership is doing the right things.\" -peter Drucker')\n",
    "for sent in doc3.sents:\n",
    "     print(sent)"
   ]
  },
  {
   "cell_type": "code",
   "execution_count": 2,
   "id": "62881a3a-6fa9-43c2-9bcd-30c362735ac6",
   "metadata": {},
   "outputs": [
    {
     "ename": "IndentationError",
     "evalue": "unindent does not match any outer indentation level (<string>, line 6)",
     "output_type": "error",
     "traceback": [
      "\u001b[1;36m  File \u001b[1;32m<string>:6\u001b[1;36m\u001b[0m\n\u001b[1;33m    return doc\u001b[0m\n\u001b[1;37m              ^\u001b[0m\n\u001b[1;31mIndentationError\u001b[0m\u001b[1;31m:\u001b[0m unindent does not match any outer indentation level\n"
     ]
    }
   ],
   "source": [
    "#add a new rule to the pipeline\n",
    "def set_custom_boundaries(doc):\n",
    "    for token in doc[:-1]:\n",
    "        if token.text ==';':\n",
    "            doc[token.i+1].is_sent_start = True\n",
    "     return doc\n",
    "    \n",
    "nlp.add_pipe(set_custom_boundaries,before='parser')\n",
    "nlp.pipe_names"
   ]
  },
  {
   "cell_type": "code",
   "execution_count": 10,
   "id": "f6b9374b-0565-4786-8571-b5202a8f1416",
   "metadata": {},
   "outputs": [
    {
     "data": {
      "text/plain": [
       "<function __main__.set_custom_boundaries(doc)>"
      ]
     },
     "execution_count": 10,
     "metadata": {},
     "output_type": "execute_result"
    }
   ],
   "source": [
    "import spacy\n",
    "from spacy.language import Language\n",
    "@Language.component(\"set_custom_boundaries\")\n",
    "def set_custom_boundaries(doc):\n",
    "        for token in doc[:-1]:\n",
    "            if token.text==';':\n",
    "                doc[token.i+1].is_sent_start = True\n",
    "        return doc\n",
    "\n",
    "nlp=spacy.load(\"en_core_web_sm\",disable=[\"parser\"])#disables default sentence parser\n",
    "nlp.add_pipe(\"set_custom_boundaries\")\n",
    "                          "
   ]
  },
  {
   "cell_type": "code",
   "execution_count": 22,
   "id": "98b24ba6-dce8-440f-b415-165fc334d77b",
   "metadata": {},
   "outputs": [
    {
     "name": "stdout",
     "output_type": "stream",
     "text": [
      "\"management is doing things right ;\n",
      "leadership is doing the right things.\"-peter Drucker\n"
     ]
    }
   ],
   "source": [
    "#re-run the doc object creation:\n",
    "doc4 = nlp(u'\"management is doing things right ; leadership is doing the right things.\"-peter Drucker')\n",
    "for sent in doc4.sents: \n",
    "    print(sent)\n",
    "        "
   ]
  },
  {
   "cell_type": "code",
   "execution_count": 23,
   "id": "06888a61-c5a0-419d-8e3c-1bcb4ae42eb8",
   "metadata": {},
   "outputs": [
    {
     "ename": "ValueError",
     "evalue": "[E030] Sentence boundaries unset. You can add the 'sentencizer' component to the pipeline with: `nlp.add_pipe('sentencizer')`. Alternatively, add the dependency parser or sentence recognizer, or set sentence boundaries by setting `doc[i].is_sent_start`.",
     "output_type": "error",
     "traceback": [
      "\u001b[1;31m---------------------------------------------------------------------------\u001b[0m",
      "\u001b[1;31mValueError\u001b[0m                                Traceback (most recent call last)",
      "Cell \u001b[1;32mIn[23], line 2\u001b[0m\n\u001b[0;32m      1\u001b[0m \u001b[38;5;66;03m#add yet the new rule doesn't apply to the older Doc object:\u001b[39;00m\n\u001b[1;32m----> 2\u001b[0m \u001b[38;5;28;01mfor\u001b[39;00m sent \u001b[38;5;129;01min\u001b[39;00m doc3\u001b[38;5;241m.\u001b[39msents:\n\u001b[0;32m      3\u001b[0m     \u001b[38;5;28mprint\u001b[39m(sent)\n",
      "File \u001b[1;32m~\\anaconda3\\envs\\spacy\\Lib\\site-packages\\spacy\\tokens\\doc.pyx:926\u001b[0m, in \u001b[0;36msents\u001b[1;34m()\u001b[0m\n",
      "\u001b[1;31mValueError\u001b[0m: [E030] Sentence boundaries unset. You can add the 'sentencizer' component to the pipeline with: `nlp.add_pipe('sentencizer')`. Alternatively, add the dependency parser or sentence recognizer, or set sentence boundaries by setting `doc[i].is_sent_start`."
     ]
    }
   ],
   "source": [
    "#add yet the new rule doesn't apply to the older Doc object:\n",
    "for sent in doc3.sents:\n",
    "    print(sent)"
   ]
  },
  {
   "cell_type": "code",
   "execution_count": null,
   "id": "5643d2ee-a167-491b-8990-05f82207f5ce",
   "metadata": {},
   "outputs": [],
   "source": []
  }
 ],
 "metadata": {
  "kernelspec": {
   "display_name": "Python 3 (ipykernel)",
   "language": "python",
   "name": "python3"
  },
  "language_info": {
   "codemirror_mode": {
    "name": "ipython",
    "version": 3
   },
   "file_extension": ".py",
   "mimetype": "text/x-python",
   "name": "python",
   "nbconvert_exporter": "python",
   "pygments_lexer": "ipython3",
   "version": "3.12.8"
  }
 },
 "nbformat": 4,
 "nbformat_minor": 5
}
