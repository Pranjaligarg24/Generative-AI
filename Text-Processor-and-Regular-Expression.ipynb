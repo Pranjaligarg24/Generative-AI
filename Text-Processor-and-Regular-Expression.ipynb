{
  "nbformat": 4,
  "nbformat_minor": 0,
  "metadata": {
    "colab": {
      "provenance": []
    },
    "kernelspec": {
      "name": "python3",
      "display_name": "Python 3"
    },
    "language_info": {
      "name": "python"
    }
  },
  "cells": [
    {
      "cell_type": "code",
      "execution_count": null,
      "metadata": {
        "id": "NDR4DNga5zhS"
      },
      "outputs": [],
      "source": [
        "import spacy\n",
        "nlp = spacy.load('en_core_web_sm')"
      ]
    },
    {
      "cell_type": "markdown",
      "source": [
        "**1. Create a Doc object from the file owlcreek.txt**"
      ],
      "metadata": {
        "id": "DVXba_Cxh0MP"
      }
    },
    {
      "cell_type": "code",
      "source": [
        "with open('owlcreek.txt') as f:\n",
        "    doc = nlp(f.read())\n",
        "\n",
        "type(doc)"
      ],
      "metadata": {
        "colab": {
          "base_uri": "https://localhost:8080/"
        },
        "id": "zjEYT6lN6t3I",
        "outputId": "c62e4df7-89a8-44e8-c571-896f067af86c"
      },
      "execution_count": null,
      "outputs": [
        {
          "output_type": "execute_result",
          "data": {
            "text/plain": [
              "spacy.tokens.doc.Doc"
            ]
          },
          "metadata": {},
          "execution_count": 4
        }
      ]
    },
    {
      "cell_type": "code",
      "source": [
        "doc[:36]"
      ],
      "metadata": {
        "colab": {
          "base_uri": "https://localhost:8080/"
        },
        "id": "GJbAEUXo7HUu",
        "outputId": "4afcc952-9aff-4da0-9842-a88dff109b9b"
      },
      "execution_count": null,
      "outputs": [
        {
          "output_type": "execute_result",
          "data": {
            "text/plain": [
              "AN OCCURRENCE AT OWL CREEK BRIDGE\n",
              "\n",
              "by Ambrose Bierce\n",
              "\n",
              "I\n",
              "\n",
              "A man stood upon a railroad bridge in northern Alabama, looking down\n",
              "into the swift water twenty feet below.  "
            ]
          },
          "metadata": {},
          "execution_count": 5
        }
      ]
    },
    {
      "cell_type": "markdown",
      "source": [
        "**2. How many tokens are contained in the file?**"
      ],
      "metadata": {
        "id": "xPUpFU357P_8"
      }
    },
    {
      "cell_type": "code",
      "source": [
        "len(doc)"
      ],
      "metadata": {
        "colab": {
          "base_uri": "https://localhost:8080/"
        },
        "id": "hZ9fZ4Gd7J7a",
        "outputId": "5812b18c-79c1-4b2b-f87e-3715514feef9"
      },
      "execution_count": null,
      "outputs": [
        {
          "output_type": "execute_result",
          "data": {
            "text/plain": [
              "4835"
            ]
          },
          "metadata": {},
          "execution_count": 6
        }
      ]
    },
    {
      "cell_type": "markdown",
      "source": [
        "**3. How many sentences are contained in the file?**"
      ],
      "metadata": {
        "id": "FAD5icNu8Tcz"
      }
    },
    {
      "cell_type": "code",
      "source": [
        "s = [sent for sent in doc.sents]\n",
        "len(s)"
      ],
      "metadata": {
        "colab": {
          "base_uri": "https://localhost:8080/"
        },
        "id": "fw4l2jhL8VFT",
        "outputId": "550a7776-b099-414a-fc94-cee86c7155fa"
      },
      "execution_count": null,
      "outputs": [
        {
          "output_type": "execute_result",
          "data": {
            "text/plain": [
              "204"
            ]
          },
          "metadata": {},
          "execution_count": 7
        }
      ]
    },
    {
      "cell_type": "markdown",
      "source": [
        "**4. Print the second sentence in the document**"
      ],
      "metadata": {
        "id": "JRKzpjmT89Rk"
      }
    },
    {
      "cell_type": "code",
      "source": [
        "print(s[2].text)"
      ],
      "metadata": {
        "colab": {
          "base_uri": "https://localhost:8080/"
        },
        "id": "Ni49_cfT8_vH",
        "outputId": "19ec1780-3d35-4b55-eb1f-8339ebd3fa60"
      },
      "execution_count": null,
      "outputs": [
        {
          "output_type": "stream",
          "name": "stdout",
          "text": [
            "A rope closely encircled his\n",
            "neck.  \n"
          ]
        }
      ]
    },
    {
      "cell_type": "markdown",
      "source": [
        "**5. For each token in the sentence above, print its text, POS tag, dep tag and lemma.**"
      ],
      "metadata": {
        "id": "pxXKDvCt9IJX"
      }
    },
    {
      "cell_type": "code",
      "source": [
        "for tokens in s[2]:\n",
        "    print(tokens,tokens.pos_,tokens.dep_, tokens.lemma_)"
      ],
      "metadata": {
        "colab": {
          "base_uri": "https://localhost:8080/"
        },
        "id": "nVb2Nx_S9Ltv",
        "outputId": "bdd198d7-faba-4bf0-fc9e-e33892501aa9"
      },
      "execution_count": null,
      "outputs": [
        {
          "output_type": "stream",
          "name": "stdout",
          "text": [
            "A DET det a\n",
            "rope NOUN nsubj rope\n",
            "closely ADV advmod closely\n",
            "encircled VERB ROOT encircle\n",
            "his PRON poss his\n",
            "\n",
            " SPACE dep \n",
            "\n",
            "neck NOUN dobj neck\n",
            ". PUNCT punct .\n",
            "  SPACE dep  \n"
          ]
        }
      ]
    },
    {
      "cell_type": "markdown",
      "source": [
        "**6. Write a matcher called 'Swimming' that finds both occurrences of the phrase \"swimming vigorously\" in the text.**"
      ],
      "metadata": {
        "id": "p-GNTBN29imO"
      }
    },
    {
      "cell_type": "code",
      "source": [
        "from spacy.matcher import Matcher\n",
        "matcher = Matcher(nlp.vocab)"
      ],
      "metadata": {
        "id": "CuJ9jw_t9mC5"
      },
      "execution_count": null,
      "outputs": []
    },
    {
      "cell_type": "code",
      "source": [
        "pattern = [{'LOWER':'swimming'},{'IS_SPACE':True},{'LOWER':'vigorously'}]\n",
        "\n",
        "matcher.add('swimmer', [pattern])"
      ],
      "metadata": {
        "id": "UI3EQ7pKeuJz"
      },
      "execution_count": null,
      "outputs": []
    },
    {
      "cell_type": "code",
      "source": [
        "found_matches = matcher(doc)\n",
        "\n",
        "print(found_matches)"
      ],
      "metadata": {
        "colab": {
          "base_uri": "https://localhost:8080/"
        },
        "id": "o9AaBAsdeK8W",
        "outputId": "498eb368-0b7c-49c0-a525-9e638dbb7d33"
      },
      "execution_count": null,
      "outputs": [
        {
          "output_type": "stream",
          "name": "stdout",
          "text": [
            "[(8984364056738817612, 1274, 1277), (8984364056738817612, 3609, 3612)]\n"
          ]
        }
      ]
    },
    {
      "cell_type": "markdown",
      "source": [
        "**7. Print the text surrounding each found match.**"
      ],
      "metadata": {
        "id": "2QSsAWcFgw6n"
      }
    },
    {
      "cell_type": "code",
      "source": [
        "print(doc[1265:1290])"
      ],
      "metadata": {
        "colab": {
          "base_uri": "https://localhost:8080/"
        },
        "id": "1a4Seo7gg7Kj",
        "outputId": "ffcdb422-9242-4159-d404-cf8ea57e0baa"
      },
      "execution_count": null,
      "outputs": [
        {
          "output_type": "stream",
          "name": "stdout",
          "text": [
            "By diving I could evade the bullets and, swimming\n",
            "vigorously, reach the bank, take to the woods and get away home\n"
          ]
        }
      ]
    }
  ]
}
