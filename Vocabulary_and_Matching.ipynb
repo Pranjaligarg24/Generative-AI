{
  "nbformat": 4,
  "nbformat_minor": 0,
  "metadata": {
    "colab": {
      "provenance": []
    },
    "kernelspec": {
      "name": "python3",
      "display_name": "Python 3"
    },
    "language_info": {
      "name": "python"
    }
  },
  "cells": [
    {
      "cell_type": "markdown",
      "source": [
        "Vocabulary and Matching\n",
        "\n",
        "So far we've seen how a body of text is divided into tokens, and how individual tokens are parsed and tagged with parts of speech, dependencies and lemmas.\n",
        "\n",
        "In this section we will identify and label specific phrases that match patterns we can define ourselves."
      ],
      "metadata": {
        "id": "3Jlf4yQ8-pus"
      }
    },
    {
      "cell_type": "markdown",
      "source": [
        "Rule-based Matching\n",
        "\n",
        "spaCy offers a rule-matching tool called Matcher that allows you to build a library of token patterns, then match those patterns against a Doc object to return a list of found matches. You can match on any part of the token including text and annotation"
      ],
      "metadata": {
        "id": "VMnrMtjA_Lka"
      }
    },
    {
      "cell_type": "code",
      "source": [
        "# Perform standard imports\n",
        "import spacy\n",
        "nlp = spacy.load('en_core_web_sm')"
      ],
      "metadata": {
        "id": "usBBAVZM_pfQ"
      },
      "execution_count": null,
      "outputs": []
    },
    {
      "cell_type": "code",
      "source": [
        "# Import the Matcher library\n",
        "from spacy.matcher import Matcher\n",
        "matcher = Matcher(nlp.vocab)"
      ],
      "metadata": {
        "id": "jmFzcI0X_y_w"
      },
      "execution_count": null,
      "outputs": []
    },
    {
      "cell_type": "markdown",
      "source": [
        "Here matcher is an object that pairs to the current Vocab object. We can add and remove specific named matchers to matcher as needed."
      ],
      "metadata": {
        "id": "gAAdkyo0_6Pf"
      }
    },
    {
      "cell_type": "markdown",
      "source": [
        "Creating patterns\n",
        "\n",
        "In literature the phrase 'solar power' might appear as one word or two, with or without a hyphen. In this section we'll develop a matcher named 'SolarPower' that finds all three:"
      ],
      "metadata": {
        "id": "tEBqWIRAACEx"
      }
    },
    {
      "cell_type": "code",
      "source": [
        "pattern1 = [{'LOWER': 'solarpower'}]\n",
        "pattern2 = [{'LOWER': 'solar'}, {'LOWER': 'power'}]\n",
        "pattern3 = [{'LOWER': 'solar'}, {'IS_PUNCT': True}, {'LOWER': 'power'}]\n",
        "\n",
        "matcher.add('SolarPower', [pattern1, pattern2, pattern3])"
      ],
      "metadata": {
        "id": "yBzG-GPbBNjy"
      },
      "execution_count": null,
      "outputs": []
    },
    {
      "cell_type": "markdown",
      "source": [
        "Let's break this down:\n",
        "\n"
      ],
      "metadata": {
        "id": "QX2_OUqzc2H1"
      }
    },
    {
      "cell_type": "markdown",
      "source": [
        "pattern1 looks for a single token whose lowercase text reads 'solarpower' pattern2 looks for two adjacent tokens that read 'solar' and 'power' in that order pattern3 looks for three adjacent tokens, with a middle token that can be any punctuation."
      ],
      "metadata": {
        "id": "rOfKE_Z5c8CB"
      }
    },
    {
      "cell_type": "markdown",
      "source": [
        "Applying the matcher to a Doc object"
      ],
      "metadata": {
        "id": "rIoByaxKAO-J"
      }
    },
    {
      "cell_type": "code",
      "source": [
        "doc = nlp(u'The Solar Power industry continues to grow as demand \\\n",
        "for solarpower increases. Solar-power cars are gaining popularity.')"
      ],
      "metadata": {
        "id": "rm8LgVN_ANMZ"
      },
      "execution_count": null,
      "outputs": []
    },
    {
      "cell_type": "code",
      "source": [
        "found_matches = matcher(doc)\n",
        "print(found_matches)"
      ],
      "metadata": {
        "colab": {
          "base_uri": "https://localhost:8080/"
        },
        "id": "OX8Yxn5cdkbz",
        "outputId": "d1ce8298-9874-431f-ecb6-7e0b5545eb71"
      },
      "execution_count": null,
      "outputs": [
        {
          "output_type": "stream",
          "name": "stdout",
          "text": [
            "[(8656102463236116519, 1, 3), (8656102463236116519, 10, 11), (8656102463236116519, 13, 16)]\n"
          ]
        }
      ]
    },
    {
      "cell_type": "markdown",
      "source": [
        "matcher returns a list of tuples. Each tuple contains an ID for the match, with start & end tokens that map to the span doc[start:end]"
      ],
      "metadata": {
        "id": "3lVX11uRd09v"
      }
    },
    {
      "cell_type": "code",
      "source": [
        "for match_id, start, end in found_matches:\n",
        "    string_id = nlp.vocab.strings[match_id]  # get string representation\n",
        "    span = doc[start:end]                    # get the matched span\n",
        "    print(match_id, string_id, start, end, span.text)"
      ],
      "metadata": {
        "colab": {
          "base_uri": "https://localhost:8080/"
        },
        "id": "2Olakn4ZeFcm",
        "outputId": "000a9e73-a185-40ff-a67b-57ab79db7504"
      },
      "execution_count": null,
      "outputs": [
        {
          "output_type": "stream",
          "name": "stdout",
          "text": [
            "8656102463236116519 SolarPower 1 3 Solar Power\n",
            "8656102463236116519 SolarPower 10 11 solarpower\n",
            "8656102463236116519 SolarPower 13 16 Solar-power\n"
          ]
        }
      ]
    },
    {
      "cell_type": "markdown",
      "source": [
        "The matcher_id is simply the hash value of the string_ID 'SolarPower'"
      ],
      "metadata": {
        "id": "3sVd0lNHf9bG"
      }
    },
    {
      "cell_type": "markdown",
      "source": [
        "# Setting pattern options and quantifiers"
      ],
      "metadata": {
        "id": "iW-YxYXwgaVV"
      }
    },
    {
      "cell_type": "markdown",
      "source": [
        "You can make token rules optional by passing an 'OP':'*' argument. This lets us streamline our patterns list:"
      ],
      "metadata": {
        "id": "1p2cPgbZgg6d"
      }
    },
    {
      "cell_type": "code",
      "source": [
        "# Redefine the patterns:\n",
        "pattern1 = [{'LOWER': 'solarpower'}]\n",
        "pattern2 = [{'LOWER': 'solar'}, {'IS_PUNCT': True, 'OP':'*'}, {'LOWER': 'power'}]\n",
        "\n",
        "# Add the new set of patterns to the 'SolarPower' matcher:\n",
        "matcher.add('SolarPower', [pattern1, pattern2])"
      ],
      "metadata": {
        "id": "4VR9AxAWg01B"
      },
      "execution_count": null,
      "outputs": []
    },
    {
      "cell_type": "code",
      "source": [
        "found_matches = matcher(doc)\n",
        "print(found_matches)"
      ],
      "metadata": {
        "colab": {
          "base_uri": "https://localhost:8080/"
        },
        "id": "fBctCkEmheVF",
        "outputId": "0ec4a1d2-4b29-4ac8-a6c7-b31f90f1e86e"
      },
      "execution_count": null,
      "outputs": [
        {
          "output_type": "stream",
          "name": "stdout",
          "text": [
            "[(8656102463236116519, 1, 3), (8656102463236116519, 10, 11), (8656102463236116519, 13, 16)]\n"
          ]
        }
      ]
    },
    {
      "cell_type": "markdown",
      "source": [
        "# Be careful with lemmas!"
      ],
      "metadata": {
        "id": "1lMHHJEIiq48"
      }
    },
    {
      "cell_type": "markdown",
      "source": [
        "If we wanted to match on both 'solar power' and 'solar powered'. it might be tempting to look for the lemma of 'powered' and expect it to be 'power'. This is not always the case! The lemma of the adjective 'powered' is till 'powered':"
      ],
      "metadata": {
        "id": "sUgtlqDQjPHW"
      }
    },
    {
      "cell_type": "code",
      "source": [
        "pattern1 = [{'LOWER': 'solarpower'}]\n",
        "pattern2 = [{'LOWER': 'solar'}, {'IS_PUNCT': True, 'OP':'*'}, {'LEMMA': 'power'}] # CHANGE THIS PATTERN\n",
        "\n",
        "# Remove the old patterns to avoid duplication:\n",
        "matcher.remove('SolarPower')\n",
        "\n",
        "matcher.add('SolarPower', [pattern1, pattern2])"
      ],
      "metadata": {
        "id": "yj8kA9BUiuiO"
      },
      "execution_count": null,
      "outputs": []
    },
    {
      "cell_type": "code",
      "source": [
        "doc2 = nlp(u'Solar-powered energy runs solar-powered cars.')"
      ],
      "metadata": {
        "id": "0JxoaJPhkPaa"
      },
      "execution_count": null,
      "outputs": []
    },
    {
      "cell_type": "code",
      "source": [
        "found_matches = matcher(doc2)\n",
        "print(found_matches)"
      ],
      "metadata": {
        "colab": {
          "base_uri": "https://localhost:8080/"
        },
        "id": "uggJiTflkW11",
        "outputId": "f5f885f4-2b33-42d4-d223-b207268b7cfd"
      },
      "execution_count": null,
      "outputs": [
        {
          "output_type": "stream",
          "name": "stdout",
          "text": [
            "[(8656102463236116519, 0, 3), (8656102463236116519, 5, 8)]\n"
          ]
        }
      ]
    },
    {
      "cell_type": "markdown",
      "source": [
        "# PhraseMatcher"
      ],
      "metadata": {
        "id": "z_ragr72lFhx"
      }
    },
    {
      "cell_type": "markdown",
      "source": [
        "In the above section we used token patterns to perform rule-based matching. An alternative - add often more efficient - method is to match on terminology lists. In this case we use PhraseMatcher to create a Doc object from a list of phrases, and pass that into matcher instead."
      ],
      "metadata": {
        "id": "67qScF-clvgM"
      }
    },
    {
      "cell_type": "code",
      "source": [
        "# Perform standard imports, reset nlp\n",
        "import spacy\n",
        "nlp = spacy.load('en_core_web_sm')"
      ],
      "metadata": {
        "id": "BM3vhjT6lJIA"
      },
      "execution_count": null,
      "outputs": []
    },
    {
      "cell_type": "code",
      "source": [
        "# import the PhraseMatcher library\n",
        "from spacy.matcher import PhraseMatcher\n",
        "matcher = PhraseMatcher(nlp.vocab)"
      ],
      "metadata": {
        "id": "3TIavKunmdMk"
      },
      "execution_count": null,
      "outputs": []
    },
    {
      "cell_type": "code",
      "source": [
        "with open('reaganomics.txt', encoding='cp1252') as f:\n",
        "    doc3 = nlp(f.read())"
      ],
      "metadata": {
        "id": "z3CkjMTgnVpJ"
      },
      "execution_count": null,
      "outputs": []
    },
    {
      "cell_type": "code",
      "source": [
        "# First, create a list of match phrases:\n",
        "phrase_list = ['voodoo economics', 'supply-side economics', 'trickle-down economics', 'free-market economics']\n",
        "\n",
        "# Next, convert each phrase to a Doc object:\n",
        "phrase_patterns = [nlp(text) for text in phrase_list]\n",
        "\n",
        "# Pass each Doc object into matcher (note the use of the asterisk!):\n",
        "matcher.add('VoodooEconomics', None, *phrase_patterns)\n",
        "\n",
        "# Build a list of matches:\n",
        "matches = matcher(doc3)"
      ],
      "metadata": {
        "id": "VnNquuY4nmDy"
      },
      "execution_count": null,
      "outputs": []
    },
    {
      "cell_type": "code",
      "source": [
        "# (match_id, start, end)\n",
        "matches"
      ],
      "metadata": {
        "colab": {
          "base_uri": "https://localhost:8080/"
        },
        "id": "TZFpCStdoxux",
        "outputId": "14f286b7-4bac-48ec-b30b-3b6ed181f426"
      },
      "execution_count": null,
      "outputs": [
        {
          "output_type": "execute_result",
          "data": {
            "text/plain": [
              "[(3473369816841043438, 41, 45),\n",
              " (3473369816841043438, 49, 53),\n",
              " (3473369816841043438, 54, 56),\n",
              " (3473369816841043438, 61, 65),\n",
              " (3473369816841043438, 673, 677),\n",
              " (3473369816841043438, 2987, 2991)]"
            ]
          },
          "metadata": {},
          "execution_count": 29
        }
      ]
    }
  ]
}